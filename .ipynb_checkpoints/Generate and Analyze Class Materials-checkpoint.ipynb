{
 "cells": [
  {
   "cell_type": "markdown",
   "metadata": {},
   "source": [
    "Notebook for generating class materials, checking links, and pushing materials into GitHub"
   ]
  },
  {
   "cell_type": "code",
   "execution_count": 1,
   "metadata": {
    "collapsed": true
   },
   "outputs": [],
   "source": [
    "# Load needed modules\n",
    "from bs4 import BeautifulSoup\n",
    "import requests\n",
    "import sys\n",
    "import warnings\n",
    "warnings.filterwarnings(\"ignore\")"
   ]
  },
  {
   "cell_type": "code",
   "execution_count": 2,
   "metadata": {
    "collapsed": true
   },
   "outputs": [],
   "source": [
    "# Set variables\n",
    "checkFiles = [\n",
    "    \"OILS515_syllabus.html\",\n",
    "    \"goalsAndObjectives/goalsAndObjectives.html\"\n",
    "]"
   ]
  },
  {
   "cell_type": "markdown",
   "metadata": {},
   "source": [
    "## Generate syllabus"
   ]
  },
  {
   "cell_type": "code",
   "execution_count": 3,
   "metadata": {
    "collapsed": true
   },
   "outputs": [],
   "source": [
    "%%bash\n",
    "/usr/local/bin/pandoc --standalone --toc --latex-engine=pdflatex  -V geometry:margin=1in -V fontsize:11pt -o OILS515_syllabus.pdf OILS515_syllabus.md\n",
    "/usr/local/bin/pandoc --toc -s --standalone --css=page.css -o OILS515_syllabus.html OILS515_syllabus.md\n",
    "/usr/local/bin/pandoc --toc -s --standalone --css=page.css -o index.html OILS515_syllabus.md\n",
    "/usr/local/bin/pandoc -s -o OILS515_syllabus.epub OILS515_syllabus.md"
   ]
  },
  {
   "cell_type": "markdown",
   "metadata": {},
   "source": [
    "## Generate Goals and Objectives"
   ]
  },
  {
   "cell_type": "code",
   "execution_count": null,
   "metadata": {
    "collapsed": true
   },
   "outputs": [],
   "source": [
    "%%bash\n",
    "cd goalsAndObjectives\n",
    "/usr/local/bin/pandoc --toc -c page.css --standalone -o goalsAndObjectives.html goalsAndObjectives.md\n",
    "/usr/local/bin/pandoc --standalone --toc --latex-engine=pdflatex  -V geometry:margin=1in -V fontsize:11pt  -o goalsAndObjectives.pdf goalsAndObjectives.md"
   ]
  },
  {
   "cell_type": "markdown",
   "metadata": {},
   "source": [
    "## Check Links"
   ]
  },
  {
   "cell_type": "code",
   "execution_count": null,
   "metadata": {},
   "outputs": [
    {
     "name": "stdout",
     "output_type": "stream",
     "text": [
      "\n",
      "Processing: OILS515_syllabus.html\n",
      "00000000000++++++++++++++\n",
      "\n",
      "\n",
      "Processing: goalsAndObjectives/goalsAndObjectives.html\n",
      "000000000000000000000000000000000000000000000000000000000000000000000000000000000000++++++++++++++++++++++++++++++++++++++++++++++++++++++++++++++"
     ]
    }
   ],
   "source": [
    "goodLinks = []\n",
    "badLinks = []\n",
    "for file in checkFiles:\n",
    "    print(\"\\nProcessing: \"+file)\n",
    "    with open(file) as activeFile:\n",
    "        soup = BeautifulSoup(activeFile, \"lxml\")\n",
    "        for link in soup.find_all('a'):\n",
    "            myLink = link.get('href')\n",
    "            if myLink[0] == \"#\":\n",
    "                print('0', end='')\n",
    "            else:\n",
    "                r = requests.get(myLink, verify=False)\n",
    "                # print(\"\\t\" + str(r.status_code))\n",
    "                if r.status_code == requests.codes.ok:\n",
    "                    print('+', end='')\n",
    "                    goodLinks.append([file,myLink,r.status_code])\n",
    "                else:\n",
    "                    print('-', end='')\n",
    "                    badLinks.append([file,myLink,r.status_code])\n",
    "        print(\"\\n\")\n",
    "\n",
    "print(\"\\n\\n--- Good Links ---\")                    \n",
    "for link in goodLinks:\n",
    "    print(link)\n",
    "\n",
    "print(\"\\n\\n--- Bad Links ---\")                    \n",
    "for link in badLinks:\n",
    "    print(link)"
   ]
  },
  {
   "cell_type": "markdown",
   "metadata": {},
   "source": [
    "## Commit and Push Updates to Github"
   ]
  },
  {
   "cell_type": "code",
   "execution_count": null,
   "metadata": {},
   "outputs": [],
   "source": [
    "%%bash\n",
    "# define commit message\n",
    "MESSAGE=\"Updated goals and objectives with correct term\"\n",
    "git pull\n",
    "git add -A\n",
    "git commit -m \"$MESSAGE\"\n",
    "git push"
   ]
  },
  {
   "cell_type": "code",
   "execution_count": null,
   "metadata": {
    "collapsed": true
   },
   "outputs": [],
   "source": []
  }
 ],
 "metadata": {
  "kernelspec": {
   "display_name": "Python 3",
   "language": "python",
   "name": "python3"
  },
  "language_info": {
   "codemirror_mode": {
    "name": "ipython",
    "version": 3
   },
   "file_extension": ".py",
   "mimetype": "text/x-python",
   "name": "python",
   "nbconvert_exporter": "python",
   "pygments_lexer": "ipython3",
   "version": "3.6.1"
  }
 },
 "nbformat": 4,
 "nbformat_minor": 2
}
